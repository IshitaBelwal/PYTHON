{
 "cells": [
  {
   "cell_type": "markdown",
   "id": "7b8d762a",
   "metadata": {},
   "source": [
    "# Python Data Structures and Boolean\n",
    "* Boolean\n",
    "* Boolean and Logical Operators\n",
    "* Lists\n",
    "* Comparison Operators"
   ]
  },
  {
   "cell_type": "markdown",
   "id": "b42af033",
   "metadata": {},
   "source": [
    "## Boolean Variables\n",
    "Boolean values are the two constant objects FALSE and TRUE\n",
    "They are used to represent truth values.\n",
    "In numeric context, they behave like integers O and 1. \n",
    "True = 1\n",
    "False = 0\n",
    "The built in function bool() can be used to cast any vaue to a boolean. If value can be interpreted as a truth value\n",
    "They are written as False and Tre, respectively"
   ]
  },
  {
   "cell_type": "code",
   "execution_count": 1,
   "id": "37212f38",
   "metadata": {},
   "outputs": [
    {
     "data": {
      "text/plain": [
       "bool"
      ]
     },
     "execution_count": 1,
     "metadata": {},
     "output_type": "execute_result"
    }
   ],
   "source": [
    "type(True)\n",
    "type(False)"
   ]
  },
  {
   "cell_type": "code",
   "execution_count": 7,
   "id": "0e1e0cbd",
   "metadata": {},
   "outputs": [],
   "source": [
    "my_str=\"kuhu\""
   ]
  },
  {
   "cell_type": "code",
   "execution_count": 6,
   "id": "385bebfd",
   "metadata": {},
   "outputs": [
    {
     "name": "stdout",
     "output_type": "stream",
     "text": [
      "False\n",
      "False\n",
      "False\n",
      "False\n",
      "False\n",
      "True\n",
      "False\n",
      "False\n",
      "True\n"
     ]
    }
   ],
   "source": [
    "print(my_str.isalnum()) # for alpha-numeric\n",
    "print(my_str.isalpha()) #for alphabet \n",
    "print(my_str.isdigit()) # for digits\n",
    "print(my_str.istitle()) # test if it contains title words\n",
    "print(my_str.isupper()) # to check uppercase\n",
    "print(my_str.islower()) # to check lower case\n",
    "print(my_str.isspace()) # to check if contains spaces\n",
    "print(my_str.endswith('d'))\n",
    "print(my_str.startswith('k'))"
   ]
  },
  {
   "cell_type": "markdown",
   "id": "638d20bc",
   "metadata": {},
   "source": [
    "## Boolean and Logical Operators"
   ]
  },
  {
   "cell_type": "code",
   "execution_count": 8,
   "id": "e28011f5",
   "metadata": {},
   "outputs": [
    {
     "data": {
      "text/plain": [
       "True"
      ]
     },
     "execution_count": 8,
     "metadata": {},
     "output_type": "execute_result"
    }
   ],
   "source": [
    "True and True"
   ]
  },
  {
   "cell_type": "code",
   "execution_count": 9,
   "id": "21c0e686",
   "metadata": {},
   "outputs": [
    {
     "data": {
      "text/plain": [
       "False"
      ]
     },
     "execution_count": 9,
     "metadata": {},
     "output_type": "execute_result"
    }
   ],
   "source": [
    "True and False"
   ]
  },
  {
   "cell_type": "code",
   "execution_count": 10,
   "id": "0e0ec4e2",
   "metadata": {},
   "outputs": [
    {
     "data": {
      "text/plain": [
       "False"
      ]
     },
     "execution_count": 10,
     "metadata": {},
     "output_type": "execute_result"
    }
   ],
   "source": [
    "False and False"
   ]
  },
  {
   "cell_type": "code",
   "execution_count": 11,
   "id": "533cbc2e",
   "metadata": {},
   "outputs": [
    {
     "data": {
      "text/plain": [
       "True"
      ]
     },
     "execution_count": 11,
     "metadata": {},
     "output_type": "execute_result"
    }
   ],
   "source": [
    "True or False"
   ]
  },
  {
   "cell_type": "code",
   "execution_count": 17,
   "id": "5f8f55f8",
   "metadata": {},
   "outputs": [
    {
     "data": {
      "text/plain": [
       "True"
      ]
     },
     "execution_count": 17,
     "metadata": {},
     "output_type": "execute_result"
    }
   ],
   "source": [
    "str1 = \"Kuhu\"\n",
    "str2 = \"Belwal\"\n",
    "str1.isnumeric() or str2.isalpha()"
   ]
  },
  {
   "cell_type": "markdown",
   "id": "f85cb235",
   "metadata": {},
   "source": [
    "## Lists\n",
    "A list is a data structure in Python that is mutable, or changeable, ordered sequence of elements. Each elements or  value that is inside of a list is called an item. Just as strings are defines as characters between quotes, lists are defined by having values between square brackets [ ]"
   ]
  },
  {
   "cell_type": "code",
   "execution_count": 19,
   "id": "2a99028b",
   "metadata": {},
   "outputs": [],
   "source": [
    "lst_example = []"
   ]
  },
  {
   "cell_type": "code",
   "execution_count": 20,
   "id": "bf23801d",
   "metadata": {},
   "outputs": [
    {
     "data": {
      "text/plain": [
       "list"
      ]
     },
     "execution_count": 20,
     "metadata": {},
     "output_type": "execute_result"
    }
   ],
   "source": [
    "type(lst_example)"
   ]
  },
  {
   "cell_type": "code",
   "execution_count": 21,
   "id": "32a48653",
   "metadata": {},
   "outputs": [],
   "source": [
    "lst = list() # inbuilt LIST func"
   ]
  },
  {
   "cell_type": "code",
   "execution_count": 24,
   "id": "c5a93ae7",
   "metadata": {},
   "outputs": [
    {
     "data": {
      "text/plain": [
       "list"
      ]
     },
     "execution_count": 24,
     "metadata": {},
     "output_type": "execute_result"
    }
   ],
   "source": [
    "type(lst)"
   ]
  },
  {
   "cell_type": "code",
   "execution_count": 22,
   "id": "4c02cab8",
   "metadata": {},
   "outputs": [],
   "source": [
    "lst= ['k','j','l']"
   ]
  },
  {
   "cell_type": "code",
   "execution_count": 23,
   "id": "fde13174",
   "metadata": {},
   "outputs": [
    {
     "data": {
      "text/plain": [
       "3"
      ]
     },
     "execution_count": 23,
     "metadata": {},
     "output_type": "execute_result"
    }
   ],
   "source": [
    "len(lst)"
   ]
  },
  {
   "cell_type": "markdown",
   "id": "62156662",
   "metadata": {},
   "source": [
    "### Append\n",
    "used to add more items in the list. Adds items at the end of the list."
   ]
  },
  {
   "cell_type": "code",
   "execution_count": 25,
   "id": "2bbafee4",
   "metadata": {},
   "outputs": [],
   "source": [
    "lst.append(\"kuhu\")"
   ]
  },
  {
   "cell_type": "code",
   "execution_count": 26,
   "id": "646ae13d",
   "metadata": {},
   "outputs": [
    {
     "data": {
      "text/plain": [
       "['k', 'j', 'l', 'kuhu']"
      ]
     },
     "execution_count": 26,
     "metadata": {},
     "output_type": "execute_result"
    }
   ],
   "source": [
    "lst"
   ]
  },
  {
   "cell_type": "code",
   "execution_count": 36,
   "id": "4153f94c",
   "metadata": {},
   "outputs": [],
   "source": [
    "# NESTED LIST\n",
    "lst.append([\"sj\",\"mj\"])"
   ]
  },
  {
   "cell_type": "code",
   "execution_count": 37,
   "id": "eaa939e9",
   "metadata": {},
   "outputs": [
    {
     "data": {
      "text/plain": [
       "['k', 'j', 'kuhu', 'l', 'kuhu', ['sj', 'mj']]"
      ]
     },
     "execution_count": 37,
     "metadata": {},
     "output_type": "execute_result"
    }
   ],
   "source": [
    "lst"
   ]
  },
  {
   "cell_type": "markdown",
   "id": "78316ff5",
   "metadata": {},
   "source": [
    "### Insert\n",
    "inserts in a specific order"
   ]
  },
  {
   "cell_type": "code",
   "execution_count": 27,
   "id": "d2660dfb",
   "metadata": {},
   "outputs": [],
   "source": [
    "lst.insert(2,\"kuhu\")"
   ]
  },
  {
   "cell_type": "code",
   "execution_count": 28,
   "id": "c4ff66b3",
   "metadata": {},
   "outputs": [
    {
     "data": {
      "text/plain": [
       "['k', 'j', 'kuhu', 'l', 'kuhu']"
      ]
     },
     "execution_count": 28,
     "metadata": {},
     "output_type": "execute_result"
    }
   ],
   "source": [
    "lst"
   ]
  },
  {
   "cell_type": "markdown",
   "id": "44a00956",
   "metadata": {},
   "source": [
    "### Indexing"
   ]
  },
  {
   "cell_type": "code",
   "execution_count": 29,
   "id": "89b6365c",
   "metadata": {},
   "outputs": [
    {
     "data": {
      "text/plain": [
       "'kuhu'"
      ]
     },
     "execution_count": 29,
     "metadata": {},
     "output_type": "execute_result"
    }
   ],
   "source": [
    "lst[2]"
   ]
  },
  {
   "cell_type": "code",
   "execution_count": 30,
   "id": "dfb4e14a",
   "metadata": {},
   "outputs": [
    {
     "data": {
      "text/plain": [
       "'j'"
      ]
     },
     "execution_count": 30,
     "metadata": {},
     "output_type": "execute_result"
    }
   ],
   "source": [
    "lst[1]"
   ]
  },
  {
   "cell_type": "code",
   "execution_count": 31,
   "id": "e7ff4fcd",
   "metadata": {},
   "outputs": [
    {
     "data": {
      "text/plain": [
       "'k'"
      ]
     },
     "execution_count": 31,
     "metadata": {},
     "output_type": "execute_result"
    }
   ],
   "source": [
    "lst[0]"
   ]
  },
  {
   "cell_type": "code",
   "execution_count": 32,
   "id": "b539a8e2",
   "metadata": {},
   "outputs": [
    {
     "data": {
      "text/plain": [
       "['k', 'j', 'kuhu', 'l', 'kuhu']"
      ]
     },
     "execution_count": 32,
     "metadata": {},
     "output_type": "execute_result"
    }
   ],
   "source": [
    "lst[:]"
   ]
  },
  {
   "cell_type": "code",
   "execution_count": 33,
   "id": "2c38e9b4",
   "metadata": {},
   "outputs": [
    {
     "data": {
      "text/plain": [
       "['j', 'kuhu', 'l', 'kuhu']"
      ]
     },
     "execution_count": 33,
     "metadata": {},
     "output_type": "execute_result"
    }
   ],
   "source": [
    "lst[1:]"
   ]
  },
  {
   "cell_type": "code",
   "execution_count": 34,
   "id": "efee3205",
   "metadata": {},
   "outputs": [
    {
     "data": {
      "text/plain": [
       "['k', 'j', 'kuhu']"
      ]
     },
     "execution_count": 34,
     "metadata": {},
     "output_type": "execute_result"
    }
   ],
   "source": [
    "lst[:3]"
   ]
  },
  {
   "cell_type": "code",
   "execution_count": 35,
   "id": "dc42684d",
   "metadata": {},
   "outputs": [
    {
     "data": {
      "text/plain": [
       "['j', 'kuhu']"
      ]
     },
     "execution_count": 35,
     "metadata": {},
     "output_type": "execute_result"
    }
   ],
   "source": [
    "lst[1:3]"
   ]
  },
  {
   "cell_type": "markdown",
   "id": "bf5154d4",
   "metadata": {},
   "source": [
    "### Extend"
   ]
  },
  {
   "cell_type": "code",
   "execution_count": 41,
   "id": "0ad8b58a",
   "metadata": {},
   "outputs": [],
   "source": [
    "lst.extend([6,7]) #adding multiple values unlike append without creating a nested list"
   ]
  },
  {
   "cell_type": "code",
   "execution_count": 40,
   "id": "399c4cd8",
   "metadata": {},
   "outputs": [
    {
     "data": {
      "text/plain": [
       "['k', 'j', 'kuhu', 'l', 'kuhu', ['sj', 'mj'], 6, 7]"
      ]
     },
     "execution_count": 40,
     "metadata": {},
     "output_type": "execute_result"
    }
   ],
   "source": [
    "lst"
   ]
  },
  {
   "cell_type": "markdown",
   "id": "6c2a1af3",
   "metadata": {},
   "source": [
    "### Various Operations on LISTs"
   ]
  },
  {
   "cell_type": "code",
   "execution_count": 68,
   "id": "1577cf69",
   "metadata": {},
   "outputs": [],
   "source": [
    "lst=[1,2,3,4,5,6]"
   ]
  },
  {
   "cell_type": "code",
   "execution_count": 69,
   "id": "5ff17c5a",
   "metadata": {},
   "outputs": [
    {
     "data": {
      "text/plain": [
       "21"
      ]
     },
     "execution_count": 69,
     "metadata": {},
     "output_type": "execute_result"
    }
   ],
   "source": [
    "sum(lst)"
   ]
  },
  {
   "cell_type": "code",
   "execution_count": 70,
   "id": "381ac5c0",
   "metadata": {},
   "outputs": [
    {
     "data": {
      "text/plain": [
       "[1, 2, 3, 4, 5, 6, 1, 2, 3, 4, 5, 6]"
      ]
     },
     "execution_count": 70,
     "metadata": {},
     "output_type": "execute_result"
    }
   ],
   "source": [
    "lst*2"
   ]
  },
  {
   "cell_type": "code",
   "execution_count": null,
   "id": "bc18b155",
   "metadata": {},
   "outputs": [],
   "source": []
  },
  {
   "cell_type": "markdown",
   "id": "df00fb0e",
   "metadata": {},
   "source": [
    "##### POP() Method"
   ]
  },
  {
   "cell_type": "code",
   "execution_count": 52,
   "id": "1bd07a61",
   "metadata": {},
   "outputs": [
    {
     "data": {
      "text/plain": [
       "6"
      ]
     },
     "execution_count": 52,
     "metadata": {},
     "output_type": "execute_result"
    }
   ],
   "source": [
    "# will pop out the elements (will dlt it...and the list will be updated)\n",
    "lst.pop() \n",
    "# by default it pops out the last element"
   ]
  },
  {
   "cell_type": "code",
   "execution_count": 53,
   "id": "59114e7a",
   "metadata": {},
   "outputs": [
    {
     "data": {
      "text/plain": [
       "[1, 2, 3, 4, 5]"
      ]
     },
     "execution_count": 53,
     "metadata": {},
     "output_type": "execute_result"
    }
   ],
   "source": [
    "lst"
   ]
  },
  {
   "cell_type": "code",
   "execution_count": 54,
   "id": "9800905f",
   "metadata": {},
   "outputs": [
    {
     "data": {
      "text/plain": [
       "3"
      ]
     },
     "execution_count": 54,
     "metadata": {},
     "output_type": "execute_result"
    }
   ],
   "source": [
    "lst.pop(2)"
   ]
  },
  {
   "cell_type": "code",
   "execution_count": 55,
   "id": "2320850c",
   "metadata": {},
   "outputs": [
    {
     "data": {
      "text/plain": [
       "[1, 2, 4, 5]"
      ]
     },
     "execution_count": 55,
     "metadata": {},
     "output_type": "execute_result"
    }
   ],
   "source": [
    "lst"
   ]
  },
  {
   "cell_type": "markdown",
   "id": "709d4141",
   "metadata": {},
   "source": [
    "##### COUNT()\n",
    "calculates total occurence of given element of list"
   ]
  },
  {
   "cell_type": "code",
   "execution_count": 57,
   "id": "6b201e0d",
   "metadata": {},
   "outputs": [],
   "source": [
    "lst=[1,2,3,3,4,4,4,5,6]"
   ]
  },
  {
   "cell_type": "code",
   "execution_count": 58,
   "id": "2e0940aa",
   "metadata": {},
   "outputs": [
    {
     "data": {
      "text/plain": [
       "9"
      ]
     },
     "execution_count": 58,
     "metadata": {},
     "output_type": "execute_result"
    }
   ],
   "source": [
    "len(lst)"
   ]
  },
  {
   "cell_type": "code",
   "execution_count": 59,
   "id": "36a47a64",
   "metadata": {},
   "outputs": [
    {
     "data": {
      "text/plain": [
       "1"
      ]
     },
     "execution_count": 59,
     "metadata": {},
     "output_type": "execute_result"
    }
   ],
   "source": [
    "lst.count(1)"
   ]
  },
  {
   "cell_type": "code",
   "execution_count": 60,
   "id": "127e2fd8",
   "metadata": {},
   "outputs": [
    {
     "data": {
      "text/plain": [
       "2"
      ]
     },
     "execution_count": 60,
     "metadata": {},
     "output_type": "execute_result"
    }
   ],
   "source": [
    "lst.count(3)"
   ]
  },
  {
   "cell_type": "code",
   "execution_count": 61,
   "id": "bcccc900",
   "metadata": {},
   "outputs": [
    {
     "data": {
      "text/plain": [
       "3"
      ]
     },
     "execution_count": 61,
     "metadata": {},
     "output_type": "execute_result"
    }
   ],
   "source": [
    "lst.count(4)"
   ]
  },
  {
   "cell_type": "markdown",
   "id": "d514eae6",
   "metadata": {},
   "source": [
    "##### MIN MAX"
   ]
  },
  {
   "cell_type": "code",
   "execution_count": 62,
   "id": "6fac2744",
   "metadata": {},
   "outputs": [
    {
     "data": {
      "text/plain": [
       "1"
      ]
     },
     "execution_count": 62,
     "metadata": {},
     "output_type": "execute_result"
    }
   ],
   "source": [
    "min(lst)"
   ]
  },
  {
   "cell_type": "code",
   "execution_count": 63,
   "id": "66eeed87",
   "metadata": {},
   "outputs": [
    {
     "data": {
      "text/plain": [
       "6"
      ]
     },
     "execution_count": 63,
     "metadata": {},
     "output_type": "execute_result"
    }
   ],
   "source": [
    "max(lst)"
   ]
  },
  {
   "cell_type": "markdown",
   "id": "76c98211",
   "metadata": {},
   "source": [
    "##### Index Function\n",
    "returns the index if the element.\n",
    "\n",
    "lst.index(value,start,end)"
   ]
  },
  {
   "cell_type": "code",
   "execution_count": 64,
   "id": "22797a21",
   "metadata": {},
   "outputs": [
    {
     "data": {
      "text/plain": [
       "0"
      ]
     },
     "execution_count": 64,
     "metadata": {},
     "output_type": "execute_result"
    }
   ],
   "source": [
    "lst.index(1,0,4) #"
   ]
  },
  {
   "cell_type": "code",
   "execution_count": 66,
   "id": "1fb5fb4a",
   "metadata": {},
   "outputs": [
    {
     "data": {
      "text/plain": [
       "2"
      ]
     },
     "execution_count": 66,
     "metadata": {},
     "output_type": "execute_result"
    }
   ],
   "source": [
    "lst.index(3)"
   ]
  },
  {
   "cell_type": "code",
   "execution_count": null,
   "id": "0ef598a2",
   "metadata": {},
   "outputs": [],
   "source": []
  }
 ],
 "metadata": {
  "kernelspec": {
   "display_name": "Python 3 (ipykernel)",
   "language": "python",
   "name": "python3"
  },
  "language_info": {
   "codemirror_mode": {
    "name": "ipython",
    "version": 3
   },
   "file_extension": ".py",
   "mimetype": "text/x-python",
   "name": "python",
   "nbconvert_exporter": "python",
   "pygments_lexer": "ipython3",
   "version": "3.9.7"
  }
 },
 "nbformat": 4,
 "nbformat_minor": 5
}
