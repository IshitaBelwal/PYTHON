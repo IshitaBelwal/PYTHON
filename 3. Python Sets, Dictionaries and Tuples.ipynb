{
 "cells": [
  {
   "cell_type": "markdown",
   "id": "4b37d7f1",
   "metadata": {},
   "source": [
    "# Python Sets, Dictionaries and Tuples"
   ]
  },
  {
   "cell_type": "markdown",
   "id": "4821a0c8",
   "metadata": {},
   "source": [
    "## SETS\n",
    "a set is an unordered collection data type that is iterable, mutable, and has no duplicate elements. Python's set class represents the mathematical notion of a set. This is based on a data structure known as a hash table"
   ]
  },
  {
   "cell_type": "code",
   "execution_count": 1,
   "id": "e8432bba",
   "metadata": {},
   "outputs": [
    {
     "name": "stdout",
     "output_type": "stream",
     "text": [
      "set()\n",
      "<class 'set'>\n"
     ]
    }
   ],
   "source": [
    "## Defining an empty set\n",
    "set1 = set()\n",
    "print(set1)\n",
    "print(type(set1))"
   ]
  },
  {
   "cell_type": "code",
   "execution_count": 3,
   "id": "cb5d9a7c",
   "metadata": {},
   "outputs": [],
   "source": [
    "set1 = {1,2,3,4,3}"
   ]
  },
  {
   "cell_type": "code",
   "execution_count": 4,
   "id": "ca302a53",
   "metadata": {},
   "outputs": [
    {
     "data": {
      "text/plain": [
       "{1, 2, 3, 4}"
      ]
     },
     "execution_count": 4,
     "metadata": {},
     "output_type": "execute_result"
    }
   ],
   "source": [
    "set1 #Duplicate elements will be only printed once"
   ]
  },
  {
   "cell_type": "code",
   "execution_count": 5,
   "id": "3a7a68a4",
   "metadata": {},
   "outputs": [
    {
     "name": "stdout",
     "output_type": "stream",
     "text": [
      "{'c', 'a', 'b'}\n",
      "<class 'set'>\n"
     ]
    }
   ],
   "source": [
    "set1={'a','b','c'}\n",
    "print(set1)\n",
    "print(type(set1))"
   ]
  },
  {
   "cell_type": "markdown",
   "id": "c049aa7b",
   "metadata": {},
   "source": [
    "There is No *indexing* in set"
   ]
  },
  {
   "cell_type": "markdown",
   "id": "040fadc8",
   "metadata": {},
   "source": [
    "##### In-built functions in set"
   ]
  },
  {
   "cell_type": "code",
   "execution_count": 6,
   "id": "a5b8a328",
   "metadata": {},
   "outputs": [],
   "source": [
    "set1.add(\"z\")"
   ]
  },
  {
   "cell_type": "code",
   "execution_count": 7,
   "id": "321ce9bf",
   "metadata": {},
   "outputs": [
    {
     "data": {
      "text/plain": [
       "{'a', 'b', 'c', 'z'}"
      ]
     },
     "execution_count": 7,
     "metadata": {},
     "output_type": "execute_result"
    }
   ],
   "source": [
    "set1"
   ]
  },
  {
   "cell_type": "code",
   "execution_count": 9,
   "id": "1aba37e9",
   "metadata": {},
   "outputs": [],
   "source": [
    "set1 = {'a','b','c'}\n",
    "set2 = {'a','b','c','Z'}"
   ]
  },
  {
   "cell_type": "code",
   "execution_count": 10,
   "id": "5c83b3bc",
   "metadata": {},
   "outputs": [
    {
     "data": {
      "text/plain": [
       "{'Z'}"
      ]
     },
     "execution_count": 10,
     "metadata": {},
     "output_type": "execute_result"
    }
   ],
   "source": [
    "##Difference\n",
    "set2.difference(set1)"
   ]
  },
  {
   "cell_type": "code",
   "execution_count": 11,
   "id": "46999305",
   "metadata": {},
   "outputs": [
    {
     "data": {
      "text/plain": [
       "{'Z', 'a', 'b', 'c'}"
      ]
     },
     "execution_count": 11,
     "metadata": {},
     "output_type": "execute_result"
    }
   ],
   "source": [
    "set2"
   ]
  },
  {
   "cell_type": "code",
   "execution_count": 12,
   "id": "f17ab207",
   "metadata": {},
   "outputs": [],
   "source": [
    "## Difference Update\n",
    "\n",
    "set2.difference_update(set1)"
   ]
  },
  {
   "cell_type": "code",
   "execution_count": 13,
   "id": "5a7ac08a",
   "metadata": {},
   "outputs": [
    {
     "data": {
      "text/plain": [
       "{'Z'}"
      ]
     },
     "execution_count": 13,
     "metadata": {},
     "output_type": "execute_result"
    }
   ],
   "source": [
    "set2"
   ]
  },
  {
   "cell_type": "code",
   "execution_count": 18,
   "id": "9098c941",
   "metadata": {},
   "outputs": [
    {
     "data": {
      "text/plain": [
       "{'a', 'b', 'c'}"
      ]
     },
     "execution_count": 18,
     "metadata": {},
     "output_type": "execute_result"
    }
   ],
   "source": [
    "## Intersection\n",
    "set1 = {'a','b','c'}\n",
    "set2 = {'a','b','c','Z'}\n",
    "set2.intersection(set1)"
   ]
  },
  {
   "cell_type": "code",
   "execution_count": 19,
   "id": "e1db4342",
   "metadata": {},
   "outputs": [
    {
     "data": {
      "text/plain": [
       "{'Z', 'a', 'b', 'c'}"
      ]
     },
     "execution_count": 19,
     "metadata": {},
     "output_type": "execute_result"
    }
   ],
   "source": [
    "set2"
   ]
  },
  {
   "cell_type": "code",
   "execution_count": 20,
   "id": "1f44da9d",
   "metadata": {},
   "outputs": [],
   "source": [
    "set2.intersection_update(set1)"
   ]
  },
  {
   "cell_type": "code",
   "execution_count": 21,
   "id": "a9c4a1ee",
   "metadata": {},
   "outputs": [
    {
     "data": {
      "text/plain": [
       "{'a', 'b', 'c'}"
      ]
     },
     "execution_count": 21,
     "metadata": {},
     "output_type": "execute_result"
    }
   ],
   "source": [
    "set2"
   ]
  },
  {
   "cell_type": "markdown",
   "id": "9faf9d08",
   "metadata": {},
   "source": [
    "## DICTIONARIES\n",
    "It is a collection which is unordered, changeable and indexed. Written within curly brackets, and have keys and values"
   ]
  },
  {
   "cell_type": "code",
   "execution_count": 23,
   "id": "c756c72b",
   "metadata": {},
   "outputs": [],
   "source": [
    "dic = {}"
   ]
  },
  {
   "cell_type": "code",
   "execution_count": 24,
   "id": "42f38b99",
   "metadata": {},
   "outputs": [
    {
     "data": {
      "text/plain": [
       "dict"
      ]
     },
     "execution_count": 24,
     "metadata": {},
     "output_type": "execute_result"
    }
   ],
   "source": [
    "type(dic)"
   ]
  },
  {
   "cell_type": "code",
   "execution_count": 30,
   "id": "0edaed71",
   "metadata": {},
   "outputs": [
    {
     "data": {
      "text/plain": [
       "{}"
      ]
     },
     "execution_count": 30,
     "metadata": {},
     "output_type": "execute_result"
    }
   ],
   "source": [
    "dict() #in-built func for creating dictionary"
   ]
  },
  {
   "cell_type": "code",
   "execution_count": 25,
   "id": "6db67083",
   "metadata": {},
   "outputs": [],
   "source": [
    "set_ex = {1,2,3} \n",
    "#In set you have only values...in dictionary you have both values and keys"
   ]
  },
  {
   "cell_type": "code",
   "execution_count": 26,
   "id": "6c2df9b9",
   "metadata": {},
   "outputs": [
    {
     "data": {
      "text/plain": [
       "set"
      ]
     },
     "execution_count": 26,
     "metadata": {},
     "output_type": "execute_result"
    }
   ],
   "source": [
    "type(set_ex)"
   ]
  },
  {
   "cell_type": "code",
   "execution_count": 27,
   "id": "bbfe6c6c",
   "metadata": {},
   "outputs": [],
   "source": [
    "# Lets create a dictionary\n",
    "\n",
    "myDic={\"car1\":\"audi\",\"car2\":\"bmw\",\"car3\":\"benz\"}"
   ]
  },
  {
   "cell_type": "code",
   "execution_count": 28,
   "id": "4a567bb6",
   "metadata": {},
   "outputs": [
    {
     "data": {
      "text/plain": [
       "dict"
      ]
     },
     "execution_count": 28,
     "metadata": {},
     "output_type": "execute_result"
    }
   ],
   "source": [
    "type(myDic)"
   ]
  },
  {
   "cell_type": "code",
   "execution_count": 29,
   "id": "4fa4ae0d",
   "metadata": {},
   "outputs": [
    {
     "data": {
      "text/plain": [
       "'audi'"
      ]
     },
     "execution_count": 29,
     "metadata": {},
     "output_type": "execute_result"
    }
   ],
   "source": [
    "## Access the item value based on keys\n",
    "myDic['car1']"
   ]
  },
  {
   "cell_type": "code",
   "execution_count": 31,
   "id": "4b1f6934",
   "metadata": {},
   "outputs": [
    {
     "name": "stdout",
     "output_type": "stream",
     "text": [
      "car1\n",
      "car2\n",
      "car3\n"
     ]
    }
   ],
   "source": [
    "for x in myDic:  #will print the keys\n",
    "    print(x)"
   ]
  },
  {
   "cell_type": "code",
   "execution_count": 32,
   "id": "197cb074",
   "metadata": {},
   "outputs": [
    {
     "name": "stdout",
     "output_type": "stream",
     "text": [
      "audi\n",
      "bmw\n",
      "benz\n"
     ]
    }
   ],
   "source": [
    "for x in myDic.values():  #will print the key values\n",
    "    print(x)"
   ]
  },
  {
   "cell_type": "code",
   "execution_count": 33,
   "id": "ba448ef8",
   "metadata": {},
   "outputs": [
    {
     "name": "stdout",
     "output_type": "stream",
     "text": [
      "('car1', 'audi')\n",
      "('car2', 'bmw')\n",
      "('car3', 'benz')\n"
     ]
    }
   ],
   "source": [
    "for x in myDic.items():  #will print both keys and values\n",
    "    print(x)"
   ]
  },
  {
   "cell_type": "code",
   "execution_count": 35,
   "id": "108993e4",
   "metadata": {},
   "outputs": [],
   "source": [
    "## ADDING ITEMS IN DICTIONARY\n",
    "myDic['car4']='honda'"
   ]
  },
  {
   "cell_type": "code",
   "execution_count": 36,
   "id": "e77aacc9",
   "metadata": {},
   "outputs": [
    {
     "data": {
      "text/plain": [
       "{'car1': 'audi', 'car2': 'bmw', 'car3': 'benz', 'car4': 'honda'}"
      ]
     },
     "execution_count": 36,
     "metadata": {},
     "output_type": "execute_result"
    }
   ],
   "source": [
    "myDic"
   ]
  },
  {
   "cell_type": "code",
   "execution_count": 37,
   "id": "3d963d32",
   "metadata": {},
   "outputs": [],
   "source": [
    "myDic['car1']=\"tesla\"  #key value will get replaced"
   ]
  },
  {
   "cell_type": "code",
   "execution_count": 38,
   "id": "095d8799",
   "metadata": {},
   "outputs": [
    {
     "data": {
      "text/plain": [
       "{'car1': 'tesla', 'car2': 'bmw', 'car3': 'benz', 'car4': 'honda'}"
      ]
     },
     "execution_count": 38,
     "metadata": {},
     "output_type": "execute_result"
    }
   ],
   "source": [
    "myDic"
   ]
  },
  {
   "cell_type": "markdown",
   "id": "842d7d71",
   "metadata": {},
   "source": [
    "##### NESTED DICTIONARY"
   ]
  },
  {
   "cell_type": "code",
   "execution_count": 39,
   "id": "14b6d58b",
   "metadata": {},
   "outputs": [],
   "source": [
    "car1_mod = {'tesla':2021}\n",
    "car2_mod= {'bmw':2000}\n",
    "car3_mod= {'audi':77}"
   ]
  },
  {
   "cell_type": "code",
   "execution_count": 40,
   "id": "49908b36",
   "metadata": {},
   "outputs": [],
   "source": [
    "car_type = {'car1':car1_mod,'car2':car2_mod,'car3':car3_mod}"
   ]
  },
  {
   "cell_type": "code",
   "execution_count": 41,
   "id": "ba4e7cff",
   "metadata": {},
   "outputs": [
    {
     "data": {
      "text/plain": [
       "{'car1': {'tesla': 2021}, 'car2': {'bmw': 2000}, 'car3': {'audi': 77}}"
      ]
     },
     "execution_count": 41,
     "metadata": {},
     "output_type": "execute_result"
    }
   ],
   "source": [
    "car_type"
   ]
  },
  {
   "cell_type": "code",
   "execution_count": 42,
   "id": "962e3e47",
   "metadata": {},
   "outputs": [
    {
     "data": {
      "text/plain": [
       "{'tesla': 2021}"
      ]
     },
     "execution_count": 42,
     "metadata": {},
     "output_type": "execute_result"
    }
   ],
   "source": [
    "car_type['car1']"
   ]
  },
  {
   "cell_type": "code",
   "execution_count": 43,
   "id": "d000ed1e",
   "metadata": {},
   "outputs": [
    {
     "data": {
      "text/plain": [
       "2021"
      ]
     },
     "execution_count": 43,
     "metadata": {},
     "output_type": "execute_result"
    }
   ],
   "source": [
    "car_type['car1']['tesla']"
   ]
  },
  {
   "cell_type": "markdown",
   "id": "ea490b45",
   "metadata": {},
   "source": [
    "## TUPLES\n",
    "Tuples are used to store multiple items in a single variable.\n",
    "\n",
    "Tuple items are ordered, unchangeable, and allow duplicate values.\n",
    "\n",
    "Use round braces"
   ]
  },
  {
   "cell_type": "code",
   "execution_count": 45,
   "id": "c2c33fbd",
   "metadata": {},
   "outputs": [],
   "source": [
    "## Create an empty tuple\n",
    "\n",
    "my_tuple=tuple()"
   ]
  },
  {
   "cell_type": "code",
   "execution_count": 46,
   "id": "5ba7fc29",
   "metadata": {},
   "outputs": [
    {
     "data": {
      "text/plain": [
       "tuple"
      ]
     },
     "execution_count": 46,
     "metadata": {},
     "output_type": "execute_result"
    }
   ],
   "source": [
    "type(my_tuple)"
   ]
  },
  {
   "cell_type": "code",
   "execution_count": 47,
   "id": "115eb845",
   "metadata": {},
   "outputs": [],
   "source": [
    "my_tuple=()"
   ]
  },
  {
   "cell_type": "code",
   "execution_count": 48,
   "id": "6b0e7bbf",
   "metadata": {},
   "outputs": [
    {
     "data": {
      "text/plain": [
       "tuple"
      ]
     },
     "execution_count": 48,
     "metadata": {},
     "output_type": "execute_result"
    }
   ],
   "source": [
    "type(my_tuple)"
   ]
  },
  {
   "cell_type": "code",
   "execution_count": 49,
   "id": "d2c0ce70",
   "metadata": {},
   "outputs": [],
   "source": [
    "myTuple = (\"kuhu\",\"katya\",\"vishi\")"
   ]
  },
  {
   "cell_type": "code",
   "execution_count": 51,
   "id": "bc14db45",
   "metadata": {},
   "outputs": [],
   "source": [
    "## Tuple does not support item assgnment\n",
    "## elements wont get replaced\n",
    "## you can change the whole tuple..but not a particular item"
   ]
  },
  {
   "cell_type": "code",
   "execution_count": 52,
   "id": "60ab6a2a",
   "metadata": {},
   "outputs": [
    {
     "data": {
      "text/plain": [
       "1"
      ]
     },
     "execution_count": 52,
     "metadata": {},
     "output_type": "execute_result"
    }
   ],
   "source": [
    "## In-built functions\n",
    "\n",
    "myTuple.count(\"kuhu\")"
   ]
  },
  {
   "cell_type": "code",
   "execution_count": 53,
   "id": "8f205a7b",
   "metadata": {},
   "outputs": [
    {
     "data": {
      "text/plain": [
       "1"
      ]
     },
     "execution_count": 53,
     "metadata": {},
     "output_type": "execute_result"
    }
   ],
   "source": [
    "myTuple.index(\"katya\")"
   ]
  },
  {
   "cell_type": "code",
   "execution_count": 54,
   "id": "6d3467c6",
   "metadata": {},
   "outputs": [],
   "source": [
    "## tuple will be used in such application/program where the definition of an item is required for just one time"
   ]
  },
  {
   "cell_type": "code",
   "execution_count": null,
   "id": "bce10ede",
   "metadata": {},
   "outputs": [],
   "source": []
  }
 ],
 "metadata": {
  "kernelspec": {
   "display_name": "Python 3 (ipykernel)",
   "language": "python",
   "name": "python3"
  },
  "language_info": {
   "codemirror_mode": {
    "name": "ipython",
    "version": 3
   },
   "file_extension": ".py",
   "mimetype": "text/x-python",
   "name": "python",
   "nbconvert_exporter": "python",
   "pygments_lexer": "ipython3",
   "version": "3.9.7"
  }
 },
 "nbformat": 4,
 "nbformat_minor": 5
}
