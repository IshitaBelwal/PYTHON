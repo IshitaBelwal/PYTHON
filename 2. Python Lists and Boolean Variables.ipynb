{
 "cells": [
  {
   "cell_type": "markdown",
   "id": "7b8d762a",
   "metadata": {},
   "source": [
    "# Python Data Structures and Boolean\n",
    "* Boolean\n",
    "* Boolean and Logical Operators\n",
    "* Lists\n",
    "* Comparison Operators"
   ]
  },
  {
   "cell_type": "markdown",
   "id": "b42af033",
   "metadata": {},
   "source": [
    "## Boolean Variables\n",
    "Boolean values are the two constant objects FALSE and TRUE\n",
    "They are used to represent truth values.\n",
    "In numeric context, they behave like integers O and 1. \n",
    "True = 1\n",
    "False = 0\n",
    "The built in function bool() can be used to cast any vaue to a boolean. If value can be interpreted as a truth value\n",
    "They are written as False and Tre, respectively"
   ]
  },
  {
   "cell_type": "code",
   "execution_count": 1,
   "id": "37212f38",
   "metadata": {},
   "outputs": [
    {
     "data": {
      "text/plain": [
       "bool"
      ]
     },
     "execution_count": 1,
     "metadata": {},
     "output_type": "execute_result"
    }
   ],
   "source": [
    "type(True)\n",
    "type(False)"
   ]
  },
  {
   "cell_type": "code",
   "execution_count": 2,
   "id": "0e1e0cbd",
   "metadata": {},
   "outputs": [],
   "source": [
    "my_str=\"kuhu\""
   ]
  },
  {
   "cell_type": "code",
   "execution_count": null,
   "id": "385bebfd",
   "metadata": {},
   "outputs": [],
   "source": [
    "print(my_str.isalnum()) git \n",
    "print(my_str.isalpha())\n",
    "print(my_str.isdigit())\n",
    "print(my_str.istitle()) # test if it contains title words\n",
    "print(my_str.isupper()) # to check uppercase\n",
    "print(my_str.islower()) # to check lower case\n",
    "print(my_str.isspace())\n",
    "print(my_str.endswith('d'))\n",
    "print(my_str.startswith('k'))"
   ]
  }
 ],
 "metadata": {
  "kernelspec": {
   "display_name": "Python 3 (ipykernel)",
   "language": "python",
   "name": "python3"
  },
  "language_info": {
   "codemirror_mode": {
    "name": "ipython",
    "version": 3
   },
   "file_extension": ".py",
   "mimetype": "text/x-python",
   "name": "python",
   "nbconvert_exporter": "python",
   "pygments_lexer": "ipython3",
   "version": "3.9.7"
  }
 },
 "nbformat": 4,
 "nbformat_minor": 5
}
